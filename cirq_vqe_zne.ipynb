{
 "cells": [
  {
   "cell_type": "code",
   "execution_count": 2,
   "id": "0301c107-b427-43b8-85b4-c9fc4f7032f1",
   "metadata": {},
   "outputs": [],
   "source": [
    "from functools import partial\n",
    "from typing import List\n",
    "import matplotlib.pyplot as plt\n",
    "import numpy as np\n",
    "from scipy.optimize import brute\n",
    "import cirq\n",
    "import openfermion as of\n",
    "from openfermionpyscf import generate_molecular_hamiltonian\n",
    "\n",
    "from mitiq import PauliString, Observable, Executor, zne  # Zero-noise extrapolation module\n",
    "from mitiq.interface.mitiq_cirq import compute_density_matrix"
   ]
  },
  {
   "cell_type": "code",
   "execution_count": 4,
   "id": "d72033af-0f7d-4583-9bcd-82480f92ae3e",
   "metadata": {},
   "outputs": [
    {
     "name": "stdout",
     "output_type": "stream",
     "text": [
      "(-0.3477762456868043+0j)*I + (0.3943982566281438+0j)*Z(q(0)) + (0.39439825662814376+0j)*Z(q(1)) + (0.011280181225500119+0j)*Z(q(0))*Z(q(1)) + (0.18157637663956305+0j)*X(q(0))*X(q(1))\n"
     ]
    }
   ],
   "source": [
    "radii = [0.2 * i for i in range(1, 14)]\n",
    "\n",
    "def qubit_operator_to_pauli_sum(qubit_op) -> List:\n",
    "    \"\"\"Converts the OpenFermion qubit operator to a list of mitiq Pauli Strings.\"\"\"\n",
    "    psum = []\n",
    "    for ind_ops, coeff in qubit_op.terms.items():\n",
    "        if ind_ops == tuple():\n",
    "            psum.append(PauliString(\"I\", coeff))\n",
    "            continue\n",
    "        term = [\"I\", \"I\"]\n",
    "        for ind, op in ind_ops:\n",
    "            term[ind] = op\n",
    "        term = ''.join(term)\n",
    "        psum.append(PauliString(term, coeff))\n",
    "    return psum\n",
    "\n",
    "def get_hamiltonian(bond_length=0.7414) -> Observable:\n",
    "    \"\"\"Returns the hamiltonian for the H2 molecule at the given bond length. Uses the STO-6G basis set and the Bravyi-Kitaev\n",
    "    transform to map fermionic operators to qubits. Results in a 2 qubit hamiltonian returned via a metriq.Observable.\"\"\"\n",
    "    geometry = [('H', (0., 0., 0.)), ('H', (0., 0., bond_length))]\n",
    "    molecular_hamiltonian = generate_molecular_hamiltonian(geometry, basis='sto-6g', multiplicity=1, charge=0)\n",
    "    fermionic_op = of.transforms.get_fermion_operator(molecular_hamiltonian)\n",
    "    bk_op = of.transforms.symmetry_conserving_bravyi_kitaev(fermionic_op, active_orbitals=4, active_fermions=2)\n",
    "    qubit_operator = qubit_operator_to_pauli_sum(bk_op)\n",
    "    return Observable(*qubit_operator)\n",
    "\n",
    "hamiltonians = get_hamiltonian(0.7414)\n",
    "print(hamiltonians)"
   ]
  },
  {
   "cell_type": "code",
   "execution_count": 5,
   "id": "3b09caf7-3dbc-49e8-82e4-5bfb7f31389f",
   "metadata": {},
   "outputs": [],
   "source": [
    "def ansatz(theta: float) -> cirq.Circuit:\n",
    "    \"\"\"Returns the circuit associated to the input variational parameter.\"\"\"\n",
    "    qreg = cirq.LineQubit.range(2)\n",
    "    return cirq.Circuit(\n",
    "        cirq.ops.ry(np.pi / 2).on(qreg[0]),\n",
    "        cirq.ops.rx(-np.pi / 2).on(qreg[1]),\n",
    "        cirq.ops.CNOT.on(*qreg),\n",
    "        cirq.ops.rz(theta).on(qreg[1]),\n",
    "        cirq.ops.CNOT.on(*qreg),\n",
    "        cirq.ops.ry(-np.pi / 2).on(qreg[0]),\n",
    "        cirq.ops.rx(np.pi / 2).on(qreg[1]),\n",
    "    )"
   ]
  },
  {
   "cell_type": "code",
   "execution_count": 6,
   "id": "7ae2121a-adff-4f9c-b23d-279cb7c1e6e6",
   "metadata": {},
   "outputs": [],
   "source": [
    "# Noise levels\n",
    "pvals = (0.00, 0.02, 0.04)\n",
    "# Variational parameters\n",
    "thetas = np.linspace(0.0, 2.0 * np.pi, 10)\n",
    "\n",
    "all_energies = []\n",
    "for pval in pvals:\n",
    "    energies = []\n",
    "    for theta in thetas:\n",
    "        results = hamiltonians.expectation(ansatz(theta), execute=partial(compute_density_matrix, noise_model_function=cirq.depolarize, noise_level=(pval,)))\n",
    "        energies.append(np.real(results))\n",
    "    all_energies.append(energies)"
   ]
  },
  {
   "cell_type": "code",
   "execution_count": 7,
   "id": "cc54e9c0-cfc1-4e73-8eee-e77496a64d38",
   "metadata": {},
   "outputs": [
    {
     "data": {
      "text/plain": [
       "[[0.45230039954185486,\n",
       "  0.3844721019268036,\n",
       "  -0.02070513367652893,\n",
       "  -0.5736445784568787,\n",
       "  -1.015619158744812,\n",
       "  -1.1398247480392456,\n",
       "  -0.8881438970565796,\n",
       "  -0.3783407211303711,\n",
       "  0.15104205906391144,\n",
       "  0.45230039954185486],\n",
       " [0.3136563003063202,\n",
       "  0.25243714451789856,\n",
       "  -0.08560022711753845,\n",
       "  -0.5422846078872681,\n",
       "  -0.9039279222488403,\n",
       "  -1.00131356716156,\n",
       "  -0.7888737320899963,\n",
       "  -0.3660111427307129,\n",
       "  0.06941193342208862,\n",
       "  0.3136563003063202],\n",
       " [0.19620239734649658,\n",
       "  0.141729936003685,\n",
       "  -0.13873636722564697,\n",
       "  -0.5139639377593994,\n",
       "  -0.8083789348602295,\n",
       "  -0.8842217326164246,\n",
       "  -0.7060047388076782,\n",
       "  -0.35711705684661865,\n",
       "  -0.0008078664541244507,\n",
       "  0.19620239734649658]]"
      ]
     },
     "execution_count": 7,
     "metadata": {},
     "output_type": "execute_result"
    }
   ],
   "source": [
    "all_energies"
   ]
  },
  {
   "cell_type": "code",
   "execution_count": 8,
   "id": "8c959cbb-7547-4f5c-998d-523f676d9d0a",
   "metadata": {},
   "outputs": [],
   "source": [
    "# Set noise scaling method\n",
    "scaling_function = zne.scaling.fold_global\n",
    "# Set extrapolation method\n",
    "fac = zne.inference.RichardsonFactory(scale_factors=[1, 3, 5])\n",
    "# Set number of trials per expectation value\n",
    "num_to_average = 1\n",
    "\n",
    "# To reproduce the results of the Mitiq paper use the following settings\n",
    "# scaling_function = zne.scaling.fold_gates_at_random\n",
    "# pfac = zne.inference.PolyFactory(order=3,\n",
    "#                           scale_factors=[1., 1.5, 2., 2.5, 3., 3.5, 4., 4.5, 5., 5.5, 6.])\n",
    "# num_to_average = 5\n",
    "# pvals = (0.00, 0.02, 0.04, 0.06)\n",
    "# thetas = np.linspace(0.0, 2.0 * np.pi, 20)\n",
    "\n",
    "all_mitigated = []\n",
    "for p in pvals[1:]:\n",
    "    mitigated = []\n",
    "    for theta in thetas:\n",
    "        # Define an executor function\n",
    "        executor = Executor(partial(compute_density_matrix, noise_model_function=cirq.depolarize, noise_level=(p,)))\n",
    "        # Run ZNE\n",
    "        zne_value = zne.execute_with_zne(\n",
    "            ansatz(theta),\n",
    "            executor,\n",
    "            hamiltonians,\n",
    "            factory=fac,\n",
    "            scale_noise=scaling_function,\n",
    "            num_to_average=num_to_average,\n",
    "        )\n",
    "        mitigated.append(np.real(zne_value))\n",
    "    all_mitigated.append(mitigated)"
   ]
  },
  {
   "cell_type": "code",
   "execution_count": 9,
   "id": "901402dc-9d09-413d-b843-eabe6291a8fa",
   "metadata": {},
   "outputs": [
    {
     "data": {
      "text/plain": [
       "[[0.44314899295568394,\n",
       "  0.37402514927089137,\n",
       "  -0.027975210919976488,\n",
       "  -0.5751027651131151,\n",
       "  -1.009836971759795,\n",
       "  -1.1299246549606317,\n",
       "  -0.8795243203639977,\n",
       "  -0.3742888867855072,\n",
       "  0.14821302890777543,\n",
       "  0.44314899295568394],\n",
       " [0.40127465128898493,\n",
       "  0.3320577200502145,\n",
       "  -0.051575329154730315,\n",
       "  -0.5711715146899218,\n",
       "  -0.9788302518427361,\n",
       "  -1.0875334367156015,\n",
       "  -0.8474586978554713,\n",
       "  -0.36617030203342443,\n",
       "  0.1274017263203852,\n",
       "  0.40127465128898493]]"
      ]
     },
     "execution_count": 9,
     "metadata": {},
     "output_type": "execute_result"
    }
   ],
   "source": [
    "all_mitigated"
   ]
  },
  {
   "cell_type": "code",
   "execution_count": null,
   "id": "b439b20c-1066-4aad-8845-508189c328bf",
   "metadata": {},
   "outputs": [],
   "source": []
  }
 ],
 "metadata": {
  "kernelspec": {
   "display_name": "Python 3 (ipykernel)",
   "language": "python",
   "name": "python3"
  },
  "language_info": {
   "codemirror_mode": {
    "name": "ipython",
    "version": 3
   },
   "file_extension": ".py",
   "mimetype": "text/x-python",
   "name": "python",
   "nbconvert_exporter": "python",
   "pygments_lexer": "ipython3",
   "version": "3.10.12"
  }
 },
 "nbformat": 4,
 "nbformat_minor": 5
}
