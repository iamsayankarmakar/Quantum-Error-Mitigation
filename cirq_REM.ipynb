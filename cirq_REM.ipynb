{
 "cells": [
  {
   "cell_type": "code",
   "execution_count": 4,
   "id": "a10976e7-ef56-4f22-ac9a-42e2c61d3ef1",
   "metadata": {},
   "outputs": [],
   "source": [
    "import cirq"
   ]
  },
  {
   "cell_type": "code",
   "execution_count": 5,
   "id": "0ba7b01f-f737-4793-8db8-e4c692e3c778",
   "metadata": {},
   "outputs": [],
   "source": [
    "import mitiq"
   ]
  },
  {
   "cell_type": "code",
   "execution_count": 17,
   "id": "ec6cd33b-38ae-4e85-a4a9-add5ffc23c15",
   "metadata": {},
   "outputs": [
    {
     "name": "stdout",
     "output_type": "stream",
     "text": [
      "0: ───H───@───M───\n",
      "          │\n",
      "1: ───────X───M───\n"
     ]
    }
   ],
   "source": [
    "from cirq import LineQubit, Circuit, H,CNOT, measure_each\n",
    "circuit = cirq.Circuit()\n",
    "qreg = cirq.LineQubit.range(2)\n",
    "# circuit.append(cirq.H(q0))\n",
    "# circuit.append(cirq.CNOT(q0,q1))\n",
    "circuit = Circuit(H(qreg[0]),CNOT(qreg[0],qreg[1]), measure_each(*qreg))\n",
    "print(circuit)"
   ]
  },
  {
   "cell_type": "code",
   "execution_count": 32,
   "id": "059f740f-ba11-48da-9fd0-903e8b438dfe",
   "metadata": {},
   "outputs": [],
   "source": [
    "from functools import partial\n",
    "\n",
    "import numpy as np\n",
    "from cirq.experiments.single_qubit_readout_calibration_test import (\n",
    "    NoisySingleQubitReadoutSampler,\n",
    ")\n",
    "\n",
    "from mitiq import MeasurementResult\n",
    "\n",
    "def noisy_readout_executor(\n",
    "    circuit, p0: float = 0.01, p1: float = 0.01, shots: int = 1000\n",
    ") -> MeasurementResult:\n",
    "    # Replace with code based on your frontend and backend.\n",
    "    simulator = NoisySingleQubitReadoutSampler(p0, p1)\n",
    "    result = simulator.run(circuit, repetitions=shots)\n",
    "\n",
    "    return MeasurementResult(\n",
    "        result=np.column_stack(list(result.measurements.values())),\n",
    "        qubit_indices=tuple(\n",
    "            # q[2:-1] is necessary to convert \"q(number)\" into \"number\"\n",
    "            int(q[2:-1])\n",
    "            for k in result.measurements.keys()\n",
    "            for q in k.split(\",\")\n",
    "        ),\n",
    "    )\n",
    "\n",
    "# Use a noisy executor that has a 25% chance of flipping\n",
    "p_flip = 0.25\n",
    "noisy_executor = partial(noisy_readout_executor, p0=p_flip, p1=p_flip)"
   ]
  },
  {
   "cell_type": "code",
   "execution_count": 33,
   "id": "a6867486-1527-40f8-9260-791dcf927220",
   "metadata": {},
   "outputs": [
    {
     "name": "stdout",
     "output_type": "stream",
     "text": [
      "{'10': 171, '11': 319, '00': 312, '01': 198}\n"
     ]
    }
   ],
   "source": [
    "from mitiq.executor.executor import Executor\n",
    "\n",
    "executor = Executor(noisy_executor)\n",
    "result = executor.run([circuit])\n",
    "noisy_result = result[0]\n",
    "print(noisy_result.get_counts())"
   ]
  },
  {
   "cell_type": "code",
   "execution_count": 36,
   "id": "2d443570-68e3-4d2d-9704-9e1f0a5c9efc",
   "metadata": {},
   "outputs": [
    {
     "name": "stdout",
     "output_type": "stream",
     "text": [
      "[[ 2.25 -0.75 -0.75  0.25]\n",
      " [-0.75  2.25  0.25 -0.75]\n",
      " [-0.75  0.25  2.25 -0.75]\n",
      " [ 0.25 -0.75 -0.75  2.25]]\n"
     ]
    }
   ],
   "source": [
    "from mitiq.rem import generate_inverse_confusion_matrix\n",
    "\n",
    "inverse_confusion_matrix = generate_inverse_confusion_matrix(2, p_flip, p_flip)\n",
    "print(inverse_confusion_matrix) #shows the inversion matrix(A) ,when we perform the inverse of A matrix on the noisy result we get the near to ideal result."
   ]
  },
  {
   "cell_type": "code",
   "execution_count": 35,
   "id": "f39defe7-f647-463e-8716-97405345b783",
   "metadata": {},
   "outputs": [
    {
     "name": "stdout",
     "output_type": "stream",
     "text": [
      "{'11': 515, '00': 483, '01': 2}\n"
     ]
    }
   ],
   "source": [
    "from mitiq.rem.inverse_confusion_matrix import mitigate_measurements\n",
    "\n",
    "mitigated_result = mitigate_measurements(noisy_result, inverse_confusion_matrix)\n",
    "print(mitigated_result.get_counts())"
   ]
  },
  {
   "cell_type": "code",
   "execution_count": null,
   "id": "bd7e8607-5c1a-429d-8b3f-db3bd5ea7123",
   "metadata": {},
   "outputs": [],
   "source": []
  },
  {
   "cell_type": "code",
   "execution_count": null,
   "id": "33f0bc05-9500-4706-9339-9de32cbed4c6",
   "metadata": {},
   "outputs": [],
   "source": []
  },
  {
   "cell_type": "code",
   "execution_count": null,
   "id": "63a7c8a7-be20-46d2-a940-a8ccd4af0caf",
   "metadata": {},
   "outputs": [],
   "source": []
  }
 ],
 "metadata": {
  "kernelspec": {
   "display_name": "Python 3 (ipykernel)",
   "language": "python",
   "name": "python3"
  },
  "language_info": {
   "codemirror_mode": {
    "name": "ipython",
    "version": 3
   },
   "file_extension": ".py",
   "mimetype": "text/x-python",
   "name": "python",
   "nbconvert_exporter": "python",
   "pygments_lexer": "ipython3",
   "version": "3.11.7"
  }
 },
 "nbformat": 4,
 "nbformat_minor": 5
}
